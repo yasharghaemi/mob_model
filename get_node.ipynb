{
 "metadata": {
  "language_info": {
   "codemirror_mode": {
    "name": "ipython",
    "version": 3
   },
   "file_extension": ".py",
   "mimetype": "text/x-python",
   "name": "python",
   "nbconvert_exporter": "python",
   "pygments_lexer": "ipython3",
   "version": "3.7.9-final"
  },
  "orig_nbformat": 2,
  "kernelspec": {
   "name": "python3",
   "display_name": "Python 3.7.9 64-bit",
   "metadata": {
    "interpreter": {
     "hash": "fd69f43f58546b570e94fd7eba7b65e6bcc7a5bbc4eab0408017d18902915d69"
    }
   }
  }
 },
 "nbformat": 4,
 "nbformat_minor": 2,
 "cells": [
  {
   "cell_type": "code",
   "execution_count": 2,
   "metadata": {},
   "outputs": [],
   "source": [
    "file_name = \"tr_new_10/mobility_v10_100.tcl\"\n",
    "file_name = \"xx/mb10.tcl\"\n",
    "file1 = open(file_name, \"r\")\n",
    "num_node = 0"
   ]
  },
  {
   "cell_type": "code",
   "execution_count": 3,
   "metadata": {},
   "outputs": [],
   "source": [
    "lines = file1.readlines()\n",
    "for line in lines: \n",
    "    if line.startswith(\"$node_(\"):\n",
    "        x = line.split(\"(\")\n",
    "        n = x[1].split(')')[0]\n",
    "        if int(n)> num_node:\n",
    "            num_node = int(n)"
   ]
  },
  {
   "cell_type": "code",
   "execution_count": 4,
   "metadata": {},
   "outputs": [
    {
     "output_type": "stream",
     "name": "stdout",
     "text": [
      "108\n"
     ]
    }
   ],
   "source": [
    "num_node = num_node + 1\n",
    "print(num_node)\n",
    "file1.close()"
   ]
  },
  {
   "cell_type": "code",
   "execution_count": 5,
   "metadata": {},
   "outputs": [],
   "source": [
    "file1 = open(file_name, \"r\")\n",
    "ds = {}\n",
    "for i in range(num_node):\n",
    "    ds[i] = [300.0,0.0]"
   ]
  },
  {
   "cell_type": "code",
   "execution_count": 6,
   "metadata": {
    "tags": []
   },
   "outputs": [],
   "source": [
    "lines = file1.readlines()\n",
    "for line in lines: \n",
    "    if line.startswith(\"$ns_ at\"):\n",
    "        x = line.split(\" \")\n",
    "        node = int(x[3].split(\"(\")[1].split(\")\")[0])\n",
    "        if(ds[node][0]>float(x[2])):\n",
    "            ds[node][0] = float(x[2])\n",
    "        if(ds[node][1]<float(x[2])):\n",
    "            ds[node][1] = float(x[2])\n",
    "file1.close()"
   ]
  },
  {
   "cell_type": "code",
   "execution_count": 7,
   "metadata": {},
   "outputs": [
    {
     "output_type": "stream",
     "name": "stdout",
     "text": [
      "[0, 1, 2, 3, 4, 5, 6, 7, 8, 9, 10, 11, 12, 13, 14, 15, 16, 17, 18, 19, 20, 21, 22, 23, 24, 25, 26, 27, 28, 29, 30, 31, 32, 33, 34, 35, 36, 37, 38, 39, 40, 41, 42, 43, 44, 45, 46, 47, 48, 49, 50, 51, 52, 53, 54, 55, 56, 57, 58, 59, 60, 61, 62, 63, 64, 65, 66, 67, 68, 69, 70, 71, 72, 73, 74, 75, 76, 77, 78, 79, 80, 81, 82, 83, 84, 85, 86, 87, 88, 89, 90, 91, 92, 93, 94, 95, 96, 97, 98, 99]\n"
     ]
    }
   ],
   "source": [
    "f = []\n",
    "for i in ds:\n",
    "    if(ds[i][0]<=100 and ds[i][1]>=140):\n",
    "        f.append(i)\n",
    "print(f)\n"
   ]
  },
  {
   "cell_type": "code",
   "execution_count": 8,
   "metadata": {},
   "outputs": [
    {
     "output_type": "stream",
     "name": "stdout",
     "text": [
      "100\n"
     ]
    }
   ],
   "source": [
    "print(len(f))"
   ]
  },
  {
   "cell_type": "code",
   "execution_count": 9,
   "metadata": {},
   "outputs": [],
   "source": [
    "file1 = open(file_name, \"r\")\n",
    "sp={}\n",
    "for i in range(num_node):\n",
    "    sp[i] = [0,0]"
   ]
  },
  {
   "cell_type": "code",
   "execution_count": 10,
   "metadata": {},
   "outputs": [],
   "source": [
    "for line in lines: \n",
    "    if(line.startswith(\"$node_(\")):\n",
    "        x = line.split(\" \")\n",
    "        node = int(x[0].split(\"(\")[1].split(\")\")[0])\n",
    "        if(x[2] == 'X_'):\n",
    "            sp[node][0] = float(x[3].replace(\"\\n\",\"\"))\n",
    "        if(x[2] == \"Y_\"):\n",
    "            sp[node][1] = float(x[3].replace(\"\\n\",\"\"))\n",
    "file1.close()"
   ]
  },
  {
   "cell_type": "code",
   "execution_count": 11,
   "metadata": {},
   "outputs": [
    {
     "output_type": "stream",
     "name": "stdout",
     "text": [
      "[1, 3, 18, 19, 28, 33, 40, 48, 54, 59, 62, 65, 69, 76, 103]\n"
     ]
    }
   ],
   "source": [
    "ls2 = []\n",
    "for n in sp:\n",
    "    if(n in ds and ( (sp[n][0]<0 and sp[n][1]> 200) or   (sp[n][0]>0 and sp[n][0]<4.5 and sp[n][1]< 800)          )):\n",
    "        ls2.append(n)\n",
    "print(ls2)"
   ]
  },
  {
   "cell_type": "code",
   "execution_count": 12,
   "metadata": {},
   "outputs": [],
   "source": [
    "def intersection(lst1, lst2): \n",
    "   lstf = []\n",
    "   for nx in lst1:\n",
    "       if(nx in lst2):\n",
    "           lstf.append(nx)\n",
    "   return lstf"
   ]
  },
  {
   "cell_type": "code",
   "execution_count": 13,
   "metadata": {},
   "outputs": [
    {
     "output_type": "stream",
     "name": "stdout",
     "text": [
      "[1, 3, 18, 19, 28, 33, 40, 48, 54, 59, 62, 65, 69, 76]\n"
     ]
    }
   ],
   "source": [
    " k = intersection(ls2,f)\n",
    "print(k)"
   ]
  },
  {
   "cell_type": "code",
   "execution_count": 14,
   "metadata": {},
   "outputs": [],
   "source": [
    "file1 = open(file_name, \"r\")\n",
    "nm=[0,0,0,0]"
   ]
  },
  {
   "cell_type": "code",
   "execution_count": 15,
   "metadata": {},
   "outputs": [
    {
     "output_type": "execute_result",
     "data": {
      "text/plain": [
       "[0, 0, 0, 0]"
      ]
     },
     "metadata": {},
     "execution_count": 15
    }
   ],
   "source": [
    "lines = file1.readlines()\n",
    "for line in lines:\n",
    "    "
   ]
  },
  {
   "cell_type": "code",
   "execution_count": null,
   "metadata": {},
   "outputs": [],
   "source": []
  }
 ]
}